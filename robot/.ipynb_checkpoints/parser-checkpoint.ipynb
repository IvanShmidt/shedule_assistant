{
 "cells": [
  {
   "cell_type": "code",
   "execution_count": 6,
   "metadata": {},
   "outputs": [
    {
     "data": {
      "text/html": [
       "<style>.container { width:90% !important; }</style>"
      ],
      "text/plain": [
       "<IPython.core.display.HTML object>"
      ]
     },
     "metadata": {},
     "output_type": "display_data"
    }
   ],
   "source": [
    "import re\n",
    "import requests\n",
    "from bs4 import BeautifulSoup\n",
    "from concurrent.futures import ThreadPoolExecutor, as_completed\n",
    "\n",
    "import datetime\n",
    "\n",
    "from IPython.core.display import display, HTML\n",
    "display(HTML(\"<style>.container { width:90% !important; }</style>\"))"
   ]
  },
  {
   "cell_type": "code",
   "execution_count": 28,
   "metadata": {},
   "outputs": [],
   "source": [
    "def free_rooms2(corp=''):\n",
    "    # corp = Корпус {}, where {} is it's name\n",
    "    \n",
    "    now = datetime.datetime.now()\n",
    "    time_str = str(now.hour)+str(':')+str(now.minute)\n",
    "\n",
    "    links = []\n",
    "    free_rooms = []\n",
    "\n",
    "    r = requests.get(\"https://home.mephi.ru/rooms\")\n",
    "    b = BeautifulSoup(r.text, \"html.parser\")\n",
    "    \n",
    "    links_block = b.select('#page-content-wrapper > div > div')[0].find(string=corp).findNext(\"ul\").find_all(\"li\")\n",
    "\n",
    "    for link in links_block:\n",
    "        links.append([\"https://home.mephi.ru\" + link.a.attrs['href'] + \"/day\", link.get_text()])\n",
    "        \n",
    "          \n",
    "    def parse_link(link):\n",
    "        r = requests.get(link[0])\n",
    "        b = BeautifulSoup(r.text, \"html.parser\")\n",
    "        try:\n",
    "            shedule_block = b.select('#page-content-wrapper > div > div:nth-child(6) > div')[0].get_text()\n",
    "            shedule_time = [s.replace(\"\\xa0— \", \"_\").replace(\"\\xa0\", \"_\") for s in shedule_block.split('\\n') if (len(s)>=3) and (s[2]==\":\")]\n",
    "            \n",
    "            if (len(list(filter(lambda x: (x[:5] <= time_str) and (time_str <= x[-5:]), shedule_time))) == 0) and (\"каф\" not in link[1]):\n",
    "                return link[1]\n",
    "            \n",
    "        except IndexError:\n",
    "            if (b.select('#page-content-wrapper > div > div.alert.alert-info')[0].get_text() == 'Занятий не найдено') and (\"каф\" not in link[1]):\n",
    "                return link[1]\n",
    "            \n",
    "        except BaseException:\n",
    "            pass\n",
    "            \n",
    "            \n",
    "    pool = ThreadPoolExecutor(5)\n",
    "    futures = []\n",
    "            \n",
    "    for link in links:\n",
    "        futures.append(pool.submit(parse_link, link))\n",
    "        \n",
    "    for x in as_completed(futures):\n",
    "        free_rooms.append(x.result())\n",
    "\n",
    "    #print(free_rooms)\n",
    "    return [x for x in free_rooms if x is not None]"
   ]
  },
  {
   "cell_type": "code",
   "execution_count": null,
   "metadata": {},
   "outputs": [],
   "source": []
  },
  {
   "cell_type": "code",
   "execution_count": 32,
   "metadata": {},
   "outputs": [],
   "source": [
    "# from concurrent.futures import ThreadPoolExecutor, wait, as_completed\n",
    " \n",
    "# def return_after_5_secs(num):\n",
    "#     sleep(randint(1, 5))\n",
    "#     #return \"Return of {}\".format(num)\n",
    "#     return num\n",
    "\n",
    "# pool = ThreadPoolExecutor(5)\n",
    "\n",
    "# futures = []\n",
    "\n",
    "# for x in range(5):\n",
    "#     futures.append(pool.submit(return_after_5_secs, x))\n",
    "\n",
    "# # r = []\n",
    "# # for x in as_completed(futures):\n",
    "# #     r.append(x.result())\n",
    "\n",
    "# # print(r)\n"
   ]
  },
  {
   "cell_type": "code",
   "execution_count": null,
   "metadata": {},
   "outputs": [],
   "source": []
  },
  {
   "cell_type": "code",
   "execution_count": 31,
   "metadata": {},
   "outputs": [
    {
     "name": "stdout",
     "output_type": "stream",
     "text": [
      "37\n",
      "['Б-105', 'Б-039', 'Б-108', 'Б-106А', 'Б-100', 'Б-118', 'Б-109', 'Б-124/126', 'Б-201', 'Б-202', 'Б-205', 'Б-207', 'Б-211', 'Б-208', 'Б-210', 'Б-212', 'Б-212ст', 'Б-213', 'Б-214', 'Б-215', 'Б-216', 'Б-217', 'Б-218', 'Б-221', 'Б-219', 'Б-303', 'Б-301', 'Б-304', 'Б-308', 'Б-314а', 'Б-314б', 'Б-316', 'Б-315', 'Б-317', 'Б-319', 'Б-401', 'Б-403']\n",
      "CPU times: user 1.16 s, sys: 37.3 ms, total: 1.19 s\n",
      "Wall time: 3.54 s\n"
     ]
    }
   ],
   "source": [
    "%%time\n",
    "fr = free_rooms2('Корпус Б')\n",
    "print(len(fr))\n",
    "print(fr)"
   ]
  },
  {
   "cell_type": "code",
   "execution_count": null,
   "metadata": {},
   "outputs": [],
   "source": []
  },
  {
   "cell_type": "code",
   "execution_count": null,
   "metadata": {},
   "outputs": [],
   "source": []
  },
  {
   "cell_type": "code",
   "execution_count": null,
   "metadata": {},
   "outputs": [],
   "source": []
  },
  {
   "cell_type": "code",
   "execution_count": 33,
   "metadata": {},
   "outputs": [],
   "source": [
    "# import concurrent.futures\n",
    "# URLS = [1, 2, 3, 4, 5]\n",
    "\n",
    "# # Retrieve a single page and report the url and contents\n",
    "# def load_url(n):\n",
    "#     sleep(randint(1, 5))\n",
    "#     return n**2\n",
    "    \n",
    "# r = []\n",
    "# # We can use a with statement to ensure threads are cleaned up promptly\n",
    "# with concurrent.futures.ThreadPoolExecutor(max_workers=5) as executor:\n",
    "#     # Start the load operations and mark each future with its URL\n",
    "#     future_to_url = [executor.submit(load_url, url) for url in URLS]\n",
    "#     for future in concurrent.futures.as_completed(future_to_url):\n",
    "#         r.append(future.result())\n",
    "        \n",
    "# print(r)"
   ]
  },
  {
   "cell_type": "code",
   "execution_count": null,
   "metadata": {},
   "outputs": [],
   "source": []
  },
  {
   "cell_type": "code",
   "execution_count": 24,
   "metadata": {},
   "outputs": [],
   "source": [
    "def free_rooms(corp=''):\n",
    "    # corp = Корпус {}, where {} is it's name\n",
    "    \n",
    "    now = datetime.datetime.now()\n",
    "    time_str = str(now.hour)+str(':')+str(now.minute)\n",
    "\n",
    "    links = []\n",
    "    free_rooms = []\n",
    "\n",
    "    r = requests.get(\"https://home.mephi.ru/rooms\")\n",
    "    b = BeautifulSoup(r.text, \"html.parser\")\n",
    "    \n",
    "    links_block = b.select('#page-content-wrapper > div > div')[0].find(string=corp).findNext(\"ul\").find_all(\"li\")\n",
    "\n",
    "    for link in links_block:\n",
    "        links.append([\"https://home.mephi.ru\" + link.a.attrs['href'] + \"/day\", link.get_text()])\n",
    "\n",
    "    for link in links:\n",
    "        r = requests.get(link[0])\n",
    "        b = BeautifulSoup(r.text, \"html.parser\")\n",
    "        try:\n",
    "            shedule_block = b.select('#page-content-wrapper > div > div:nth-child(6) > div')[0].get_text()\n",
    "            shedule_time = [s.replace(\"\\xa0— \", \"_\").replace(\"\\xa0\", \"_\") for s in shedule_block.split('\\n') if (len(s)>=3) and (s[2]==\":\")]\n",
    "        except IndexError:\n",
    "            if (b.select('#page-content-wrapper > div > div.alert.alert-info')[0].get_text() == 'Занятий не найдено') and (\"каф\" not in link[1]):\n",
    "                free_rooms.append(link[1])\n",
    "                continue\n",
    "        except BaseException: \n",
    "            continue\n",
    "\n",
    "        if (len(list(filter(lambda x: (x[:5] <= time_str) and (time_str <= x[-5:]), shedule_time))) == 0) and (\"каф\" not in link[1]):\n",
    "            free_rooms.append(link[1])\n",
    "\n",
    "    #print(free_rooms)\n",
    "    return free_rooms\n",
    "\n",
    "# обработать ошибку none type object has no atribute findNext\n",
    "\n",
    "# обработать ошибку с последним кабинетом - не фильтрует каф"
   ]
  },
  {
   "cell_type": "code",
   "execution_count": null,
   "metadata": {},
   "outputs": [],
   "source": []
  },
  {
   "cell_type": "code",
   "execution_count": null,
   "metadata": {},
   "outputs": [],
   "source": []
  },
  {
   "cell_type": "code",
   "execution_count": null,
   "metadata": {},
   "outputs": [],
   "source": []
  },
  {
   "cell_type": "code",
   "execution_count": 25,
   "metadata": {},
   "outputs": [],
   "source": [
    "# _date = datetime.datetime.now().strftime(\"%Y-%m-%d\")\n",
    "    \n",
    "# url = \"https://home.mephi.ru/study_groups/5256/day?date=2019-02-11\"\n",
    "\n",
    "# r = requests.get(url)\n",
    "# b = BeautifulSoup(r.text, \"html.parser\")\n",
    "\n",
    "# try:\n",
    "#     shedule_block = b.select('#page-content-wrapper > div > div:nth-child(7) > div')[0].get_text()\n",
    "#     shedule_txt = [s.replace(\"\\xa0— \", \"_\").replace(\"\\xa0\", \"_\") for s in shedule_block.split('\\n') if s != '']\n",
    "\n",
    "# # на случай воскресенья или праздника\n",
    "# except BaseException:\n",
    "#     print('empty')\n",
    "\n",
    "# def parse_test_shadule(test):\n",
    "#     numbers = [str(i) for i in range(10)]\n",
    "#     hours_d = {}\n",
    "\n",
    "#     for i, el in enumerate(test):\n",
    "#         if (len(el) > 3) and (el[0] in numbers) and (el[1] in numbers):\n",
    "#             lesson_time = el\n",
    "#             hours_d[lesson_time] = []\n",
    "#             continue\n",
    "#         hours_d[lesson_time].append(el)\n",
    "\n",
    "#     def split_in_two(arr):\n",
    "#         ix = len(arr) // 2\n",
    "#         return [arr[:ix], arr[ix:]]\n",
    "\n",
    "#     for key in hours_d.keys():\n",
    "#         if len(hours_d[key]) > 5:\n",
    "#             hours_d[key] = split_in_two(hours_d[key])\n",
    "\n",
    "#     return(hours_d)\n",
    "\n",
    "# d = parse_test_shadule(shedule_txt)\n",
    "\n",
    "# parse_lesson(d)"
   ]
  },
  {
   "cell_type": "code",
   "execution_count": null,
   "metadata": {},
   "outputs": [],
   "source": []
  },
  {
   "cell_type": "code",
   "execution_count": null,
   "metadata": {},
   "outputs": [],
   "source": []
  },
  {
   "cell_type": "code",
   "execution_count": 55,
   "metadata": {},
   "outputs": [],
   "source": [
    "def parse_shedule_today(datatime_date=None):\n",
    "    #_date = (datetime.datetime.now() + datetime.timedelta(days=1)).strftime(\"%Y-%m-%d\")\n",
    "    _date = datetime.datetime.now().date() if not datatime_date else datatime_date\n",
    "    _date = _date.strftime(\"%Y-%m-%d\")\n",
    "    \n",
    "    url = \"https://home.mephi.ru/study_groups/5256/day?date=\" + _date\n",
    "    \n",
    "    r = requests.get(url)\n",
    "    b = BeautifulSoup(r.text, \"html.parser\")\n",
    "    \n",
    "    try:\n",
    "        shedule_block = b.select('#page-content-wrapper > div > div:nth-child(7) > div')[0].get_text()\n",
    "        shedule_txt = [s.replace(\"\\xa0— \", \"_\").replace(\"\\xa0\", \"_\") for s in shedule_block.split('\\n') if s != '']\n",
    "        \n",
    "    # на случай воскресенья или праздника\n",
    "    except BaseException:\n",
    "        return {}\n",
    "\n",
    "    def parse_test_shadule(test):\n",
    "        numbers = [str(i) for i in range(10)]\n",
    "        hours_d = {}\n",
    "\n",
    "        for i, el in enumerate(test):\n",
    "            if (len(el) > 3) and (el[0] in numbers) and (el[1] in numbers):\n",
    "                lesson_time = el\n",
    "                hours_d[lesson_time] = []\n",
    "                continue\n",
    "            hours_d[lesson_time].append(el)\n",
    "\n",
    "        def split_in_two(arr):\n",
    "            ix = len(arr) // 2\n",
    "            return [arr[:ix], arr[ix:]]\n",
    "\n",
    "        for key in hours_d.keys():\n",
    "            if len(hours_d[key]) > 5:\n",
    "                hours_d[key] = split_in_two(hours_d[key])\n",
    "\n",
    "        return(hours_d)\n",
    "\n",
    "\n",
    "    return parse_test_shadule(shedule_txt)\n",
    "\n",
    "\n",
    "def parse_lesson(shadule_today):\n",
    "    now = datetime.datetime.now()\n",
    "    time_str = str(now.hour)+str(':')+str(now.minute)\n",
    "\n",
    "    for k in shadule_today.keys():\n",
    "        if (time_str > k[:5]) and (time_str < k[-5:]):\n",
    "            return shadule_today[k]"
   ]
  },
  {
   "cell_type": "code",
   "execution_count": 59,
   "metadata": {},
   "outputs": [
    {
     "data": {
      "text/plain": [
       "['Т-215', 'Лек', 'Безопасность сетей ЭВМ', 'Мельников_Д.А.']"
      ]
     },
     "execution_count": 59,
     "metadata": {},
     "output_type": "execute_result"
    }
   ],
   "source": [
    "parse_lesson(parse_shedule_today())"
   ]
  },
  {
   "cell_type": "code",
   "execution_count": null,
   "metadata": {},
   "outputs": [],
   "source": []
  },
  {
   "cell_type": "code",
   "execution_count": null,
   "metadata": {},
   "outputs": [],
   "source": []
  },
  {
   "cell_type": "code",
   "execution_count": 8,
   "metadata": {},
   "outputs": [
    {
     "data": {
      "text/plain": [
       "{'10:15_11:50': ['Б-215',\n",
       "  'Лек',\n",
       "  'Системы аналитических вычислений',\n",
       "  'Б16-505',\n",
       "  'Б16-565']}"
      ]
     },
     "execution_count": 8,
     "metadata": {},
     "output_type": "execute_result"
    }
   ],
   "source": [
    "\n",
    "\n",
    "def parse_prof_shedule(name=\"Мельников Дмитрий Анатольевич\", FULL_NAME=True, date=None):\n",
    "    sec_name = name.split()[0] if FULL_NAME else name   #обработать\n",
    "    date = str(datetime.datetime.now().hour)+str(':')+str(datetime.datetime.now().minute) if not date else date\n",
    "    base_url = \"https://home.mephi.ru\"\n",
    "    url = \"https://home.mephi.ru/tutors?utf8=✓&locale=&term_id=7&query=\" + sec_name\n",
    "    \n",
    "    try:\n",
    "        \n",
    "        b = BeautifulSoup(requests.get(url).text, \"html.parser\")\n",
    "        links_corp = b.select('#page-content-wrapper > div > div > div.list-group')[0].find_all('a')\n",
    "        #prof_links = [base_url + link['href'].split(\"?\")[0]]\n",
    "\n",
    "        _url = \"\"\n",
    "        for link in links_corp:\n",
    "            if sec_name.lower() in link.text.lower():\n",
    "                _url = base_url + link['href'].split(\"?\")[0] + \"/day?date=\" + date\n",
    "\n",
    "        b = BeautifulSoup(requests.get(_url).text, \"html.parser\")\n",
    "\n",
    "        shedule_block = b.select(\"#page-content-wrapper > div > div:nth-child(6) > div\")[0].get_text()\n",
    "        shedule_txt = [s.replace(\"\\xa0— \", \"_\").replace(\"\\xa0\", \"_\") for s in shedule_block.split('\\n') if (s != \"\") and (s != \",\")]\n",
    "\n",
    "        def parse_test_shadule(test):\n",
    "            numbers = [str(i) for i in range(10)]\n",
    "            hours_d = {}\n",
    "\n",
    "            for i, el in enumerate(test):\n",
    "                if (len(el) > 3) and (el[0] in numbers) and (el[1] in numbers):\n",
    "                    lesson_time = el\n",
    "                    hours_d[lesson_time] = []\n",
    "                    continue\n",
    "                hours_d[lesson_time].append(el)\n",
    "\n",
    "            return(hours_d)\n",
    "\n",
    "        return(parse_test_shadule(shedule_txt))\n",
    "\n",
    "    except BaseException as e:\n",
    "        print(e)\n",
    "        return {}\n",
    "    \n",
    "    \n",
    "parse_prof_shedule(name=\"Велигура\", date=\"2019-02-21\")\n",
    "\n",
    "#доделать разветвление если видит нескольких преподавателей"
   ]
  },
  {
   "cell_type": "code",
   "execution_count": null,
   "metadata": {},
   "outputs": [],
   "source": []
  }
 ],
 "metadata": {
  "kernelspec": {
   "display_name": "Python 3",
   "language": "python",
   "name": "python3"
  },
  "language_info": {
   "codemirror_mode": {
    "name": "ipython",
    "version": 3
   },
   "file_extension": ".py",
   "mimetype": "text/x-python",
   "name": "python",
   "nbconvert_exporter": "python",
   "pygments_lexer": "ipython3",
   "version": "3.6.7"
  }
 },
 "nbformat": 4,
 "nbformat_minor": 2
}
